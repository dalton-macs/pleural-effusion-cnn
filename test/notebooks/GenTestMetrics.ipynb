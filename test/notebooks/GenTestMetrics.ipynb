{
 "cells": [
  {
   "cell_type": "code",
   "execution_count": 1,
   "metadata": {},
   "outputs": [
    {
     "name": "stdout",
     "output_type": "stream",
     "text": [
      "/home/dmacres/Projects/pleural-effusion-cnn/test/notebooks\n"
     ]
    }
   ],
   "source": [
    "import pandas as pd\n",
    "from utils import gen_metrics\n",
    "import os\n",
    "\n",
    "print(os.getcwd())"
   ]
  },
  {
   "cell_type": "code",
   "execution_count": 3,
   "metadata": {},
   "outputs": [],
   "source": [
    "data_path = '../../data/models/googlenet_test_predictions_202404271444.csv'\n",
    "out_path = '../../data/models/metrics/googlenet_test_metrics.csv'\n",
    "df = gen_metrics(file_path = data_path, save_path=out_path)"
   ]
  },
  {
   "cell_type": "code",
   "execution_count": 4,
   "metadata": {},
   "outputs": [
    {
     "data": {
      "text/html": [
       "<div>\n",
       "<style scoped>\n",
       "    .dataframe tbody tr th:only-of-type {\n",
       "        vertical-align: middle;\n",
       "    }\n",
       "\n",
       "    .dataframe tbody tr th {\n",
       "        vertical-align: top;\n",
       "    }\n",
       "\n",
       "    .dataframe thead th {\n",
       "        text-align: right;\n",
       "    }\n",
       "</style>\n",
       "<table border=\"1\" class=\"dataframe\">\n",
       "  <thead>\n",
       "    <tr style=\"text-align: right;\">\n",
       "      <th></th>\n",
       "      <th>TP</th>\n",
       "      <th>TN</th>\n",
       "      <th>FP</th>\n",
       "      <th>FN</th>\n",
       "      <th>Accuracy</th>\n",
       "      <th>Precision</th>\n",
       "      <th>Recall</th>\n",
       "      <th>F1</th>\n",
       "      <th>Mathews Correlation Cefficient</th>\n",
       "    </tr>\n",
       "  </thead>\n",
       "  <tbody>\n",
       "    <tr>\n",
       "      <th>0</th>\n",
       "      <td>2135</td>\n",
       "      <td>1660</td>\n",
       "      <td>745</td>\n",
       "      <td>413</td>\n",
       "      <td>0.766202</td>\n",
       "      <td>0.741319</td>\n",
       "      <td>0.837912</td>\n",
       "      <td>0.786662</td>\n",
       "      <td>0.535071</td>\n",
       "    </tr>\n",
       "  </tbody>\n",
       "</table>\n",
       "</div>"
      ],
      "text/plain": [
       "     TP    TN   FP   FN  Accuracy  Precision    Recall        F1  \\\n",
       "0  2135  1660  745  413  0.766202   0.741319  0.837912  0.786662   \n",
       "\n",
       "   Mathews Correlation Cefficient  \n",
       "0                        0.535071  "
      ]
     },
     "execution_count": 4,
     "metadata": {},
     "output_type": "execute_result"
    }
   ],
   "source": [
    "df"
   ]
  },
  {
   "cell_type": "code",
   "execution_count": 5,
   "metadata": {},
   "outputs": [],
   "source": [
    "data_path = '../../data/models/resnet_test_predictions_202404281522.csv'\n",
    "out_path = '../../data/models/metrics/resnet_test_metrics.csv'\n",
    "df = gen_metrics(file_path = data_path, save_path=out_path)"
   ]
  },
  {
   "cell_type": "code",
   "execution_count": 6,
   "metadata": {},
   "outputs": [
    {
     "data": {
      "text/html": [
       "<div>\n",
       "<style scoped>\n",
       "    .dataframe tbody tr th:only-of-type {\n",
       "        vertical-align: middle;\n",
       "    }\n",
       "\n",
       "    .dataframe tbody tr th {\n",
       "        vertical-align: top;\n",
       "    }\n",
       "\n",
       "    .dataframe thead th {\n",
       "        text-align: right;\n",
       "    }\n",
       "</style>\n",
       "<table border=\"1\" class=\"dataframe\">\n",
       "  <thead>\n",
       "    <tr style=\"text-align: right;\">\n",
       "      <th></th>\n",
       "      <th>TP</th>\n",
       "      <th>TN</th>\n",
       "      <th>FP</th>\n",
       "      <th>FN</th>\n",
       "      <th>Accuracy</th>\n",
       "      <th>Precision</th>\n",
       "      <th>Recall</th>\n",
       "      <th>F1</th>\n",
       "      <th>Mathews Correlation Cefficient</th>\n",
       "    </tr>\n",
       "  </thead>\n",
       "  <tbody>\n",
       "    <tr>\n",
       "      <th>0</th>\n",
       "      <td>2176</td>\n",
       "      <td>1841</td>\n",
       "      <td>564</td>\n",
       "      <td>372</td>\n",
       "      <td>0.811024</td>\n",
       "      <td>0.794161</td>\n",
       "      <td>0.854003</td>\n",
       "      <td>0.822995</td>\n",
       "      <td>0.622769</td>\n",
       "    </tr>\n",
       "  </tbody>\n",
       "</table>\n",
       "</div>"
      ],
      "text/plain": [
       "     TP    TN   FP   FN  Accuracy  Precision    Recall        F1  \\\n",
       "0  2176  1841  564  372  0.811024   0.794161  0.854003  0.822995   \n",
       "\n",
       "   Mathews Correlation Cefficient  \n",
       "0                        0.622769  "
      ]
     },
     "execution_count": 6,
     "metadata": {},
     "output_type": "execute_result"
    }
   ],
   "source": [
    "df"
   ]
  },
  {
   "cell_type": "code",
   "execution_count": 8,
   "metadata": {},
   "outputs": [],
   "source": [
    "data_path = '../../data/models/densenet_test_predictions_202404281613.csv'\n",
    "out_path = '../../data/models/metrics/densenet_test_metrics.csv'\n",
    "df = gen_metrics(file_path = data_path, save_path=out_path)"
   ]
  },
  {
   "cell_type": "code",
   "execution_count": 9,
   "metadata": {},
   "outputs": [
    {
     "data": {
      "text/html": [
       "<div>\n",
       "<style scoped>\n",
       "    .dataframe tbody tr th:only-of-type {\n",
       "        vertical-align: middle;\n",
       "    }\n",
       "\n",
       "    .dataframe tbody tr th {\n",
       "        vertical-align: top;\n",
       "    }\n",
       "\n",
       "    .dataframe thead th {\n",
       "        text-align: right;\n",
       "    }\n",
       "</style>\n",
       "<table border=\"1\" class=\"dataframe\">\n",
       "  <thead>\n",
       "    <tr style=\"text-align: right;\">\n",
       "      <th></th>\n",
       "      <th>TP</th>\n",
       "      <th>TN</th>\n",
       "      <th>FP</th>\n",
       "      <th>FN</th>\n",
       "      <th>Accuracy</th>\n",
       "      <th>Precision</th>\n",
       "      <th>Recall</th>\n",
       "      <th>F1</th>\n",
       "      <th>Mathews Correlation Cefficient</th>\n",
       "    </tr>\n",
       "  </thead>\n",
       "  <tbody>\n",
       "    <tr>\n",
       "      <th>0</th>\n",
       "      <td>1778</td>\n",
       "      <td>2065</td>\n",
       "      <td>340</td>\n",
       "      <td>770</td>\n",
       "      <td>0.775893</td>\n",
       "      <td>0.839471</td>\n",
       "      <td>0.697802</td>\n",
       "      <td>0.762109</td>\n",
       "      <td>0.562119</td>\n",
       "    </tr>\n",
       "  </tbody>\n",
       "</table>\n",
       "</div>"
      ],
      "text/plain": [
       "     TP    TN   FP   FN  Accuracy  Precision    Recall        F1  \\\n",
       "0  1778  2065  340  770  0.775893   0.839471  0.697802  0.762109   \n",
       "\n",
       "   Mathews Correlation Cefficient  \n",
       "0                        0.562119  "
      ]
     },
     "execution_count": 9,
     "metadata": {},
     "output_type": "execute_result"
    }
   ],
   "source": [
    "df"
   ]
  },
  {
   "cell_type": "code",
   "execution_count": 11,
   "metadata": {},
   "outputs": [],
   "source": [
    "data_path = '../../data/models/baseline_test_predictions_202404281656.csv'\n",
    "out_path = '../../data/models/metrics/baseline_test_metrics.csv'\n",
    "df = gen_metrics(file_path = data_path, save_path=out_path)"
   ]
  },
  {
   "cell_type": "code",
   "execution_count": 12,
   "metadata": {},
   "outputs": [
    {
     "data": {
      "text/html": [
       "<div>\n",
       "<style scoped>\n",
       "    .dataframe tbody tr th:only-of-type {\n",
       "        vertical-align: middle;\n",
       "    }\n",
       "\n",
       "    .dataframe tbody tr th {\n",
       "        vertical-align: top;\n",
       "    }\n",
       "\n",
       "    .dataframe thead th {\n",
       "        text-align: right;\n",
       "    }\n",
       "</style>\n",
       "<table border=\"1\" class=\"dataframe\">\n",
       "  <thead>\n",
       "    <tr style=\"text-align: right;\">\n",
       "      <th></th>\n",
       "      <th>TP</th>\n",
       "      <th>TN</th>\n",
       "      <th>FP</th>\n",
       "      <th>FN</th>\n",
       "      <th>Accuracy</th>\n",
       "      <th>Precision</th>\n",
       "      <th>Recall</th>\n",
       "      <th>F1</th>\n",
       "      <th>Mathews Correlation Cefficient</th>\n",
       "    </tr>\n",
       "  </thead>\n",
       "  <tbody>\n",
       "    <tr>\n",
       "      <th>0</th>\n",
       "      <td>1626</td>\n",
       "      <td>1864</td>\n",
       "      <td>541</td>\n",
       "      <td>922</td>\n",
       "      <td>0.704623</td>\n",
       "      <td>0.750346</td>\n",
       "      <td>0.638148</td>\n",
       "      <td>0.689714</td>\n",
       "      <td>0.416291</td>\n",
       "    </tr>\n",
       "  </tbody>\n",
       "</table>\n",
       "</div>"
      ],
      "text/plain": [
       "     TP    TN   FP   FN  Accuracy  Precision    Recall        F1  \\\n",
       "0  1626  1864  541  922  0.704623   0.750346  0.638148  0.689714   \n",
       "\n",
       "   Mathews Correlation Cefficient  \n",
       "0                        0.416291  "
      ]
     },
     "execution_count": 12,
     "metadata": {},
     "output_type": "execute_result"
    }
   ],
   "source": [
    "df"
   ]
  },
  {
   "cell_type": "code",
   "execution_count": 10,
   "metadata": {},
   "outputs": [
    {
     "data": {
      "text/plain": [
       "{'n_epochs': 2,\n",
       " 'model_state_dict': OrderedDict([('model.0.weight',\n",
       "               tensor([[[[ 0.1983,  0.1851, -0.2124],\n",
       "                         [ 0.0184, -0.0687, -0.0779],\n",
       "                         [ 0.3017, -0.1903,  0.3269]]],\n",
       "               \n",
       "               \n",
       "                       [[[-0.1462,  0.1931, -0.0089],\n",
       "                         [ 0.1211,  0.0793, -0.3086],\n",
       "                         [-0.0693, -0.2280, -0.2451]]],\n",
       "               \n",
       "               \n",
       "                       [[[ 0.2145,  0.1490,  0.0252],\n",
       "                         [-0.3510, -0.0172, -0.1226],\n",
       "                         [-0.0221,  0.1112,  0.1048]]],\n",
       "               \n",
       "               \n",
       "                       [[[-0.0425, -0.0311, -0.2383],\n",
       "                         [ 0.1953, -0.3222, -0.0841],\n",
       "                         [ 0.1924,  0.2446, -0.0604]]],\n",
       "               \n",
       "               \n",
       "                       [[[ 0.0325, -0.2743, -0.0806],\n",
       "                         [ 0.2163,  0.1836,  0.1150],\n",
       "                         [ 0.2419, -0.1724, -0.2436]]],\n",
       "               \n",
       "               \n",
       "                       [[[ 0.1233,  0.0614, -0.2520],\n",
       "                         [-0.1360, -0.3161, -0.0218],\n",
       "                         [ 0.1851,  0.1503, -0.0069]]],\n",
       "               \n",
       "               \n",
       "                       [[[-0.0511,  0.1721,  0.0104],\n",
       "                         [ 0.1064, -0.3075,  0.1357],\n",
       "                         [ 0.1365, -0.1228,  0.0468]]],\n",
       "               \n",
       "               \n",
       "                       [[[-0.1495, -0.2389, -0.2154],\n",
       "                         [-0.2272,  0.0671, -0.2538],\n",
       "                         [-0.2896,  0.0392, -0.1246]]],\n",
       "               \n",
       "               \n",
       "                       [[[-0.0878,  0.2119, -0.1148],\n",
       "                         [-0.0034,  0.1830, -0.4025],\n",
       "                         [-0.1483,  0.1184, -0.3020]]],\n",
       "               \n",
       "               \n",
       "                       [[[-0.0840, -0.3147,  0.2615],\n",
       "                         [-0.2748,  0.0585, -0.0533],\n",
       "                         [-0.0443,  0.0961,  0.0768]]],\n",
       "               \n",
       "               \n",
       "                       [[[-0.0051, -0.0434, -0.2388],\n",
       "                         [ 0.0550,  0.1090, -0.3093],\n",
       "                         [ 0.0204, -0.1623,  0.1625]]],\n",
       "               \n",
       "               \n",
       "                       [[[ 0.0369,  0.0759,  0.1611],\n",
       "                         [-0.2825, -0.2161,  0.0757],\n",
       "                         [ 0.3193, -0.1698, -0.2554]]],\n",
       "               \n",
       "               \n",
       "                       [[[-0.2846,  0.0112, -0.3112],\n",
       "                         [-0.2110,  0.2030,  0.1371],\n",
       "                         [ 0.2839,  0.3189, -0.2620]]],\n",
       "               \n",
       "               \n",
       "                       [[[ 0.1787, -0.0960,  0.0709],\n",
       "                         [ 0.0887,  0.0499, -0.2464],\n",
       "                         [-0.2574, -0.1748,  0.1944]]],\n",
       "               \n",
       "               \n",
       "                       [[[-0.1410,  0.2713, -0.0044],\n",
       "                         [-0.0856,  0.0815, -0.1755],\n",
       "                         [ 0.2795,  0.1021, -0.2237]]],\n",
       "               \n",
       "               \n",
       "                       [[[ 0.1160,  0.0277,  0.1951],\n",
       "                         [-0.1386, -0.0996,  0.0381],\n",
       "                         [-0.3009, -0.1945, -0.0949]]]], device='cuda:0')),\n",
       "              ('model.0.bias',\n",
       "               tensor([-0.3011,  0.0813, -0.2375, -0.0748, -0.1069, -0.0515, -0.1304,  0.1623,\n",
       "                        0.0769,  0.1500,  0.1074,  0.1497,  0.0447,  0.1008, -0.0912,  0.0429],\n",
       "                      device='cuda:0')),\n",
       "              ('model.4.weight',\n",
       "               tensor([[-0.0017, -0.0009, -0.0010,  ...,  0.0019, -0.0002, -0.0024],\n",
       "                       [-0.0006,  0.0011, -0.0001,  ...,  0.0011,  0.0003, -0.0010]],\n",
       "                      device='cuda:0')),\n",
       "              ('model.4.bias', tensor([ 0.0058, -0.0065], device='cuda:0'))]),\n",
       " 'optimizer_state_dict': {'state': {0: {'momentum_buffer': None},\n",
       "   1: {'momentum_buffer': None},\n",
       "   2: {'momentum_buffer': None},\n",
       "   3: {'momentum_buffer': None}},\n",
       "  'param_groups': [{'lr': 0.01,\n",
       "    'momentum': 0,\n",
       "    'dampening': 0,\n",
       "    'weight_decay': 0,\n",
       "    'nesterov': False,\n",
       "    'maximize': False,\n",
       "    'foreach': None,\n",
       "    'differentiable': False,\n",
       "    'params': [0, 1, 2, 3]}]},\n",
       " 'loss': tensor(0.5286, device='cuda:0', requires_grad=True)}"
      ]
     },
     "execution_count": 10,
     "metadata": {},
     "output_type": "execute_result"
    }
   ],
   "source": [
    "import torch\n",
    "\n",
    "data = torch.load('/mnt/d/mimic-cxr-jpg/model/simple-cnn-poc/simple-cnn-poc-fully-trained.pth', map_location=torch.device('cuda:0'))\n",
    "data"
   ]
  },
  {
   "cell_type": "code",
   "execution_count": null,
   "metadata": {},
   "outputs": [],
   "source": []
  }
 ],
 "metadata": {
  "kernelspec": {
   "display_name": "cnn-pe",
   "language": "python",
   "name": "python3"
  },
  "language_info": {
   "codemirror_mode": {
    "name": "ipython",
    "version": 3
   },
   "file_extension": ".py",
   "mimetype": "text/x-python",
   "name": "python",
   "nbconvert_exporter": "python",
   "pygments_lexer": "ipython3",
   "version": "3.10.13"
  }
 },
 "nbformat": 4,
 "nbformat_minor": 2
}
